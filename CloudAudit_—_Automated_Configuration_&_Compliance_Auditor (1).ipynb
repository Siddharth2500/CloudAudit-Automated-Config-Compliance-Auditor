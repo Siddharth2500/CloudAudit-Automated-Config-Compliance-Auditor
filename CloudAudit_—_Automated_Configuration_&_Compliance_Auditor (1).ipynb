{
  "nbformat": 4,
  "nbformat_minor": 0,
  "metadata": {
    "colab": {
      "provenance": []
    },
    "kernelspec": {
      "name": "python3",
      "display_name": "Python 3"
    },
    "language_info": {
      "name": "python"
    }
  },
  "cells": [
    {
      "cell_type": "code",
      "execution_count": 10,
      "metadata": {
        "colab": {
          "base_uri": "https://localhost:8080/"
        },
        "id": "6yE-lwLn06lK",
        "outputId": "6bf062de-48ef-4b49-8ab9-965ca5a29dec"
      },
      "outputs": [
        {
          "output_type": "stream",
          "name": "stdout",
          "text": [
            "✅ Audit complete: {'timestamp': '2025-10-19T10:22:56.279946+00:00', 'total': 30, 'compliant': 0, 'non_compliant': 30, 'failures': [{'resource_id': '<unknown_id>', 'issues': ['encryption_disabled', 'public_access_allowed']}, {'resource_id': '<unknown_id>', 'issues': ['encryption_disabled', 'tls_too_low']}, {'resource_id': '<unknown_id>', 'issues': ['encryption_disabled', 'tls_too_low']}, {'resource_id': '<unknown_id>', 'issues': ['encryption_disabled', 'tls_too_low']}, {'resource_id': '<unknown_id>', 'issues': ['encryption_disabled', 'tls_too_low', 'public_access_allowed']}, {'resource_id': '<unknown_id>', 'issues': ['encryption_disabled', 'public_access_allowed']}, {'resource_id': '<unknown_id>', 'issues': ['encryption_disabled']}, {'resource_id': '<unknown_id>', 'issues': ['encryption_disabled']}, {'resource_id': '<unknown_id>', 'issues': ['encryption_disabled']}, {'resource_id': '<unknown_id>', 'issues': ['encryption_disabled', 'tls_too_low']}, {'resource_id': '<unknown_id>', 'issues': ['encryption_disabled', 'tls_too_low', 'public_access_allowed']}, {'resource_id': '<unknown_id>', 'issues': ['encryption_disabled']}, {'resource_id': '<unknown_id>', 'issues': ['encryption_disabled', 'tls_too_low', 'public_access_allowed']}, {'resource_id': '<unknown_id>', 'issues': ['encryption_disabled', 'public_access_allowed']}, {'resource_id': '<unknown_id>', 'issues': ['encryption_disabled', 'public_access_allowed']}, {'resource_id': '<unknown_id>', 'issues': ['encryption_disabled', 'public_access_allowed']}, {'resource_id': '<unknown_id>', 'issues': ['encryption_disabled', 'tls_too_low', 'public_access_allowed']}, {'resource_id': '<unknown_id>', 'issues': ['encryption_disabled', 'public_access_allowed']}, {'resource_id': '<unknown_id>', 'issues': ['encryption_disabled', 'public_access_allowed']}, {'resource_id': '<unknown_id>', 'issues': ['encryption_disabled', 'public_access_allowed']}, {'resource_id': '<unknown_id>', 'issues': ['encryption_disabled', 'tls_too_low']}, {'resource_id': '<unknown_id>', 'issues': ['encryption_disabled', 'tls_too_low']}, {'resource_id': '<unknown_id>', 'issues': ['encryption_disabled', 'tls_too_low']}, {'resource_id': '<unknown_id>', 'issues': ['encryption_disabled', 'tls_too_low']}, {'resource_id': '<unknown_id>', 'issues': ['encryption_disabled', 'tls_too_low', 'public_access_allowed']}, {'resource_id': '<unknown_id>', 'issues': ['encryption_disabled']}, {'resource_id': '<unknown_id>', 'issues': ['encryption_disabled', 'tls_too_low', 'public_access_allowed']}, {'resource_id': '<unknown_id>', 'issues': ['encryption_disabled']}, {'resource_id': '<unknown_id>', 'issues': ['encryption_disabled', 'tls_too_low', 'public_access_allowed']}, {'resource_id': '<unknown_id>', 'issues': ['encryption_disabled', 'tls_too_low']}]}\n"
          ]
        }
      ],
      "source": [
        "# ============================================================\n",
        "# CloudAudit — Automated Configuration & Compliance Auditor (Colab-ready)\n",
        "# ============================================================\n",
        "\n",
        "import os\n",
        "import json\n",
        "import random\n",
        "from datetime import datetime, timezone\n",
        "\n",
        "# Configuration\n",
        "CONFIG_FILE = \"data/configurations.json\"\n",
        "AUDIT_REPORT = \"data/audit_report.json\"\n",
        "\n",
        "RULES = {\n",
        "    \"encryption\": True,\n",
        "    \"min_tls\": \"1.2\",\n",
        "    \"no_public\": True\n",
        "}\n",
        "\n",
        "# Ensure directories\n",
        "os.makedirs(os.path.dirname(CONFIG_FILE), exist_ok=True)\n",
        "os.makedirs(os.path.dirname(AUDIT_REPORT), exist_ok=True)\n",
        "\n",
        "# Generate dummy configurations if missing\n",
        "if not os.path.exists(CONFIG_FILE):\n",
        "    configs = []\n",
        "    for i in range(1, 51):\n",
        "        configs.append({\n",
        "            \"id\": f\"res-{i:03}\",\n",
        "            \"type\": random.choice([\"storage_bucket\", \"compute_vm\", \"database\"]),\n",
        "            \"encrypted\": random.choice([True, False]),\n",
        "            \"tls_version\": random.choice([\"1.0\", \"1.1\", \"1.2\", \"1.3\"]),\n",
        "            \"public_access\": random.choice([True, False])\n",
        "        })\n",
        "    with open(CONFIG_FILE, \"w\", encoding=\"utf-8\") as f:\n",
        "        json.dump(configs, f, indent=2)\n",
        "\n",
        "def load_configs(path):\n",
        "    with open(path, \"r\", encoding=\"utf-8\") as f:\n",
        "        return json.load(f)\n",
        "\n",
        "def evaluate_one(cfg):\n",
        "    issues = []\n",
        "    if RULES[\"encryption\"] and not cfg.get(\"encrypted\", False):\n",
        "        issues.append(\"encryption_disabled\")\n",
        "    if cfg.get(\"tls_version\", \"\") < RULES[\"min_tls\"]:\n",
        "        issues.append(\"tls_too_low\")\n",
        "    if RULES[\"no_public\"] and cfg.get(\"public_access\", False):\n",
        "        issues.append(\"public_access_allowed\")\n",
        "    return issues\n",
        "\n",
        "def run_audit(input_path, output_path):\n",
        "    configs = load_configs(input_path)\n",
        "    report = {\n",
        "        \"timestamp\": datetime.now(timezone.utc).isoformat(),\n",
        "        \"total\": len(configs),\n",
        "        \"compliant\": 0,\n",
        "        \"non_compliant\": 0,\n",
        "        \"failures\": []\n",
        "    }\n",
        "    for cfg in configs:\n",
        "        issues = evaluate_one(cfg)\n",
        "        resource_id = cfg.get(\"id\", \"<unknown_id>\")\n",
        "        if issues:\n",
        "            report[\"non_compliant\"] += 1\n",
        "            report[\"failures\"].append({\"resource_id\": resource_id, \"issues\": issues})\n",
        "        else:\n",
        "            report[\"compliant\"] += 1\n",
        "    with open(output_path, \"w\", encoding=\"utf-8\") as f:\n",
        "        json.dump(report, f, indent=2)\n",
        "    return report\n",
        "\n",
        "if __name__ == \"__main__\":\n",
        "    audit = run_audit(CONFIG_FILE, AUDIT_REPORT)\n",
        "    print(\"✅ Audit complete:\", audit)\n"
      ]
    }
  ]
}